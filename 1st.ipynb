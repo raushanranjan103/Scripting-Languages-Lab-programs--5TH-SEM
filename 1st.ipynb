{
 "cells": [
  {
   "cell_type": "code",
   "execution_count": 1,
   "id": "a0ed96ab",
   "metadata": {},
   "outputs": [],
   "source": [
    "a=[]"
   ]
  },
  {
   "cell_type": "code",
   "execution_count": 19,
   "id": "1763de88",
   "metadata": {},
   "outputs": [
    {
     "name": "stdout",
     "output_type": "stream",
     "text": [
      "print 1 to enter the element and -1 to exit\n",
      "1\n",
      "enter the element\n",
      "48\n",
      "print 1 to enter the element and -1 to exit\n",
      "1\n",
      "enter the element\n",
      "56\n",
      "print 1 to enter the element and -1 to exit\n",
      "1\n",
      "enter the element\n",
      "12\n",
      "print 1 to enter the element and -1 to exit\n",
      "1\n",
      "enter the element\n",
      "45\n",
      "print 1 to enter the element and -1 to exit\n",
      "1\n",
      "enter the element\n",
      "63\n",
      "print 1 to enter the element and -1 to exit\n",
      "-1\n",
      "[48, 56, 12, 45, 63]\n"
     ]
    }
   ],
   "source": [
    "while True:\n",
    "    print('print 1 to enter the element and anything else to exit')\n",
    "    c=int(input())\n",
    "    if(c==1):\n",
    "      print('enter the element')\n",
    "      b=int(input())\n",
    "      a.append(b)\n",
    "    else: \n",
    "      break\n",
    "print(a)"
   ]
  },
  {
   "cell_type": "code",
   "execution_count": 20,
   "id": "1a528bbf",
   "metadata": {},
   "outputs": [
    {
     "data": {
      "text/plain": [
       "63"
      ]
     },
     "execution_count": 20,
     "metadata": {},
     "output_type": "execute_result"
    }
   ],
   "source": [
    "max(a)"
   ]
  },
  {
   "cell_type": "code",
   "execution_count": 21,
   "id": "8929b865",
   "metadata": {},
   "outputs": [
    {
     "data": {
      "text/plain": [
       "12"
      ]
     },
     "execution_count": 21,
     "metadata": {},
     "output_type": "execute_result"
    }
   ],
   "source": [
    "min(a)"
   ]
  },
  {
   "cell_type": "code",
   "execution_count": 23,
   "id": "ef103198",
   "metadata": {},
   "outputs": [],
   "source": [
    "a.sort()"
   ]
  },
  {
   "cell_type": "code",
   "execution_count": 24,
   "id": "bed1fcd4",
   "metadata": {},
   "outputs": [
    {
     "data": {
      "text/plain": [
       "[12, 45, 48, 56, 63]"
      ]
     },
     "execution_count": 24,
     "metadata": {},
     "output_type": "execute_result"
    }
   ],
   "source": [
    "a\n"
   ]
  },
  {
   "cell_type": "code",
   "execution_count": 26,
   "id": "b0b91cba",
   "metadata": {},
   "outputs": [],
   "source": [
    "a.insert(4,788)"
   ]
  },
  {
   "cell_type": "code",
   "execution_count": 27,
   "id": "e0be2531",
   "metadata": {},
   "outputs": [
    {
     "data": {
      "text/plain": [
       "[12, 45, 48, 56, 788, 788, 63]"
      ]
     },
     "execution_count": 27,
     "metadata": {},
     "output_type": "execute_result"
    }
   ],
   "source": [
    "a\n"
   ]
  },
  {
   "cell_type": "code",
   "execution_count": 29,
   "id": "6f265446",
   "metadata": {},
   "outputs": [],
   "source": [
    "a.remove(788)"
   ]
  },
  {
   "cell_type": "code",
   "execution_count": 30,
   "id": "f52807f8",
   "metadata": {},
   "outputs": [
    {
     "data": {
      "text/plain": [
       "[12, 45, 48, 56, 788, 63]"
      ]
     },
     "execution_count": 30,
     "metadata": {},
     "output_type": "execute_result"
    }
   ],
   "source": [
    "a\n"
   ]
  },
  {
   "cell_type": "code",
   "execution_count": 31,
   "id": "dc59c604",
   "metadata": {},
   "outputs": [],
   "source": [
    "a.remove(788)"
   ]
  },
  {
   "cell_type": "code",
   "execution_count": 32,
   "id": "8656a437",
   "metadata": {},
   "outputs": [
    {
     "data": {
      "text/plain": [
       "[12, 45, 48, 56, 63]"
      ]
     },
     "execution_count": 32,
     "metadata": {},
     "output_type": "execute_result"
    }
   ],
   "source": [
    "a\n"
   ]
  },
  {
   "cell_type": "code",
   "execution_count": 33,
   "id": "7b3ace83",
   "metadata": {},
   "outputs": [],
   "source": [
    "a.insert(4,90)"
   ]
  },
  {
   "cell_type": "code",
   "execution_count": 34,
   "id": "f7be2b07",
   "metadata": {},
   "outputs": [
    {
     "data": {
      "text/plain": [
       "[12, 45, 48, 56, 90, 63]"
      ]
     },
     "execution_count": 34,
     "metadata": {},
     "output_type": "execute_result"
    }
   ],
   "source": [
    "a"
   ]
  },
  {
   "cell_type": "code",
   "execution_count": 35,
   "id": "e75e8780",
   "metadata": {},
   "outputs": [],
   "source": [
    "a.insert(19,90)"
   ]
  },
  {
   "cell_type": "code",
   "execution_count": 36,
   "id": "88efce02",
   "metadata": {},
   "outputs": [
    {
     "data": {
      "text/plain": [
       "[12, 45, 48, 56, 90, 63, 90]"
      ]
     },
     "execution_count": 36,
     "metadata": {},
     "output_type": "execute_result"
    }
   ],
   "source": [
    "a"
   ]
  },
  {
   "cell_type": "code",
   "execution_count": 37,
   "id": "c7b09160",
   "metadata": {},
   "outputs": [
    {
     "data": {
      "text/plain": [
       "90"
      ]
     },
     "execution_count": 37,
     "metadata": {},
     "output_type": "execute_result"
    }
   ],
   "source": [
    "a.pop()"
   ]
  },
  {
   "cell_type": "code",
   "execution_count": 38,
   "id": "c7cf07ba",
   "metadata": {},
   "outputs": [
    {
     "data": {
      "text/plain": [
       "63"
      ]
     },
     "execution_count": 38,
     "metadata": {},
     "output_type": "execute_result"
    }
   ],
   "source": [
    "a.pop(5)"
   ]
  },
  {
   "cell_type": "code",
   "execution_count": 39,
   "id": "e83066e5",
   "metadata": {},
   "outputs": [
    {
     "data": {
      "text/plain": [
       "[12, 45, 48, 56, 90]"
      ]
     },
     "execution_count": 39,
     "metadata": {},
     "output_type": "execute_result"
    }
   ],
   "source": [
    "a"
   ]
  },
  {
   "cell_type": "code",
   "execution_count": 40,
   "id": "337da5f6",
   "metadata": {},
   "outputs": [
    {
     "data": {
      "text/plain": [
       "1"
      ]
     },
     "execution_count": 40,
     "metadata": {},
     "output_type": "execute_result"
    }
   ],
   "source": [
    "a.count(45)"
   ]
  },
  {
   "cell_type": "code",
   "execution_count": 42,
   "id": "3ad66a9c",
   "metadata": {},
   "outputs": [
    {
     "data": {
      "text/plain": [
       "True"
      ]
     },
     "execution_count": 42,
     "metadata": {},
     "output_type": "execute_result"
    }
   ],
   "source": [
    "12 in a"
   ]
  },
  {
   "cell_type": "code",
   "execution_count": 43,
   "id": "e553fe20",
   "metadata": {},
   "outputs": [
    {
     "data": {
      "text/plain": [
       "False"
      ]
     },
     "execution_count": 43,
     "metadata": {},
     "output_type": "execute_result"
    }
   ],
   "source": [
    "46 in a"
   ]
  },
  {
   "cell_type": "code",
   "execution_count": null,
   "id": "16dbd8b1",
   "metadata": {},
   "outputs": [],
   "source": []
  }
 ],
 "metadata": {
  "kernelspec": {
   "display_name": "Python 3 (ipykernel)",
   "language": "python",
   "name": "python3"
  },
  "language_info": {
   "codemirror_mode": {
    "name": "ipython",
    "version": 3
   },
   "file_extension": ".py",
   "mimetype": "text/x-python",
   "name": "python",
   "nbconvert_exporter": "python",
   "pygments_lexer": "ipython3",
   "version": "3.9.5"
  }
 },
 "nbformat": 4,
 "nbformat_minor": 5
}
