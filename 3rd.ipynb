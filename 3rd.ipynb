{
 "cells": [
  {
   "cell_type": "code",
   "execution_count": 9,
   "id": "a43d5218",
   "metadata": {},
   "outputs": [
    {
     "name": "stdout",
     "output_type": "stream",
     "text": [
      "Enter 1 to for celcius to fahrenheit , 2 for fahrenheit to celcius,anything else to exit\n",
      "1\n",
      "enter the temperature in celsius:98\n",
      "98.00 cel is:208.40 fahro\n"
     ]
    }
   ],
   "source": [
    "def celcius():\n",
    "    cel=float(input(\"enter the temperature in celsius:\"))\n",
    "    fahro=(cel*9/5.0)+32\n",
    "    print('%.2f cel is:%0.2f fahro' %(cel,fahro))\n",
    "\n",
    "def fahr():\n",
    "    fahro=float(input('enter the temperature in fahrenheit:'))\n",
    "    cel=(fahro-32)*5/9.0\n",
    "    print('%.2f fahro is:%0.2f cel'%(fahro,cel))\n",
    "    \n",
    "print('Enter 1 to for celcius to fahrenheit , 2 for fahrenheit to celcius,anything else to exit')\n",
    "a=int(input())\n",
    "if(a==1):\n",
    "    celcius()\n",
    "    \n",
    "elif(a==2):\n",
    "     fahr()\n",
    "else:\n",
    "    print('wrong input')\n",
    "  "
   ]
  },
  {
   "cell_type": "code",
   "execution_count": null,
   "id": "f49ac311",
   "metadata": {},
   "outputs": [],
   "source": []
  },
  {
   "cell_type": "code",
   "execution_count": null,
   "id": "52f44dd3",
   "metadata": {},
   "outputs": [],
   "source": []
  }
 ],
 "metadata": {
  "kernelspec": {
   "display_name": "Python 3 (ipykernel)",
   "language": "python",
   "name": "python3"
  },
  "language_info": {
   "codemirror_mode": {
    "name": "ipython",
    "version": 3
   },
   "file_extension": ".py",
   "mimetype": "text/x-python",
   "name": "python",
   "nbconvert_exporter": "python",
   "pygments_lexer": "ipython3",
   "version": "3.9.5"
  }
 },
 "nbformat": 4,
 "nbformat_minor": 5
}
