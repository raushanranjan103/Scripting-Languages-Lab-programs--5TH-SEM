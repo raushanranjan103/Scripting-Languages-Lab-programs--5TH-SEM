{
 "cells": [
  {
   "cell_type": "code",
   "execution_count": null,
   "id": "heard-mumbai",
   "metadata": {},
   "outputs": [],
   "source": [
    "conversions = []"
   ]
  },
  {
   "cell_type": "code",
   "execution_count": null,
   "id": "express-notebook",
   "metadata": {},
   "outputs": [],
   "source": [
    "def CtoF():\n",
    "    c = (float)(input('Enter the temperature in celsius :' ))\n",
    "    f = (c * (9/5)) + 32\n",
    "    print(f\"The Fahrenheit temperature is : {f}\")\n",
    "#     cel = str(c) + '*C'\n",
    "#     far = str(f) + '*F'\n",
    "    conversions.append((c,f))"
   ]
  },
  {
   "cell_type": "code",
   "execution_count": null,
   "id": "removed-mumbai",
   "metadata": {},
   "outputs": [],
   "source": [
    "def FtoC():\n",
    "    f = (float)(input('Enter the temperature in fahrenheit :' ))\n",
    "    c = (f-32)*5/9\n",
    "    print(f\"The Celsius temperature is : {c}\")\n",
    "#     cel = str(c) + '*C'\n",
    "#     far = str(f) + '*F'\n",
    "    conversions.append((f,c))"
   ]
  },
  {
   "cell_type": "code",
   "execution_count": null,
   "id": "returning-musical",
   "metadata": {},
   "outputs": [],
   "source": [
    "def sortConversions():\n",
    "    print('1. By From value')\n",
    "    print('2. By To value')\n",
    "    x = (int)(input('Enter your choice : '))\n",
    "    \n",
    "    if x == 1 :\n",
    "        conversions.sort()\n",
    "    elif x == 2:\n",
    "        conversions.sort( key = lambda x : x[1])\n",
    "        \n",
    "    print(conversions)"
   ]
  },
  {
   "cell_type": "code",
   "execution_count": null,
   "id": "computational-darwin",
   "metadata": {},
   "outputs": [],
   "source": [
    "def menudriven():\n",
    "    \n",
    "    print('1. Celsius to Fahrenheit')\n",
    "    print('2. Fahrenheit to Celsius')\n",
    "    print('3. View Conversions')\n",
    "    print('4. Sort Conversions')\n",
    "    print('5. Exit')\n",
    "    \n",
    "    while True:\n",
    "        x = (int)(input('Enter your choice : '))\n",
    "        \n",
    "        if x == 1:\n",
    "            CtoF()\n",
    "        elif x == 2:\n",
    "            FtoC()\n",
    "        elif x == 3:\n",
    "            print(conversions)\n",
    "        elif x == 4:\n",
    "            sortConversions()\n",
    "        elif x == 5:\n",
    "            break\n",
    "        else:\n",
    "            print(\"Invalid Input\")"
   ]
  },
  {
   "cell_type": "code",
   "execution_count": null,
   "id": "healthy-folder",
   "metadata": {},
   "outputs": [],
   "source": [
    "menudriven()"
   ]
  },
  {
   "cell_type": "code",
   "execution_count": null,
   "id": "sufficient-industry",
   "metadata": {},
   "outputs": [],
   "source": []
  }
 ],
 "metadata": {
  "kernelspec": {
   "display_name": "Python 3",
   "language": "python",
   "name": "python3"
  },
  "language_info": {
   "codemirror_mode": {
    "name": "ipython",
    "version": 3
   },
   "file_extension": ".py",
   "mimetype": "text/x-python",
   "name": "python",
   "nbconvert_exporter": "python",
   "pygments_lexer": "ipython3",
   "version": "3.6.9"
  }
 },
 "nbformat": 4,
 "nbformat_minor": 5
}
