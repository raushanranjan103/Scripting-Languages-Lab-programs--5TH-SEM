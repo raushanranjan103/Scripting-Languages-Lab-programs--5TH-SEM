{
 "cells": [
  {
   "cell_type": "code",
   "execution_count": 10,
   "id": "ef38d847",
   "metadata": {},
   "outputs": [],
   "source": [
    "class  Rectangle:\n",
    "      def __init__(self , length, breadth):\n",
    "            self.length=length\n",
    "            self.breadth=breadth\n",
    "            \n",
    "      def area(self):\n",
    "          self.ans=self.length*self.breadth\n",
    "          print(f\"AREA OF RECTANGLE WITH LENGTH:{self.length} and {self.breadth}={self.ans} \")\n",
    "            \n",
    "        \n",
    "        \n",
    "            \n",
    "            "
   ]
  },
  {
   "cell_type": "code",
   "execution_count": 11,
   "id": "92fae298",
   "metadata": {},
   "outputs": [],
   "source": [
    "A1= Rectangle(10,20)"
   ]
  },
  {
   "cell_type": "code",
   "execution_count": 12,
   "id": "e964f05e",
   "metadata": {},
   "outputs": [],
   "source": [
    "A2=Rectangle(30,40)"
   ]
  },
  {
   "cell_type": "code",
   "execution_count": 13,
   "id": "56c6813c",
   "metadata": {},
   "outputs": [
    {
     "name": "stdout",
     "output_type": "stream",
     "text": [
      "AREA OF RECTANGLE WITH LENGTH:10 and 20=200 \n"
     ]
    }
   ],
   "source": [
    "A1.area()"
   ]
  },
  {
   "cell_type": "code",
   "execution_count": 14,
   "id": "ef0d2ca9",
   "metadata": {},
   "outputs": [
    {
     "name": "stdout",
     "output_type": "stream",
     "text": [
      "AREA OF RECTANGLE WITH LENGTH:30 and 40=1200 \n"
     ]
    }
   ],
   "source": [
    "A2.area()\n"
   ]
  },
  {
   "cell_type": "code",
   "execution_count": null,
   "id": "5784aa4f",
   "metadata": {},
   "outputs": [],
   "source": []
  }
 ],
 "metadata": {
  "kernelspec": {
   "display_name": "Python 3 (ipykernel)",
   "language": "python",
   "name": "python3"
  },
  "language_info": {
   "codemirror_mode": {
    "name": "ipython",
    "version": 3
   },
   "file_extension": ".py",
   "mimetype": "text/x-python",
   "name": "python",
   "nbconvert_exporter": "python",
   "pygments_lexer": "ipython3",
   "version": "3.9.5"
  }
 },
 "nbformat": 4,
 "nbformat_minor": 5
}
